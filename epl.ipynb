{
 "cells": [
  {
   "cell_type": "code",
   "execution_count": null,
   "id": "07869ea5-cbf9-4d71-a663-9dd5bd266874",
   "metadata": {},
   "outputs": [],
   "source": [
    "import requests\n",
    "import pandas as pd\n",
    "from bs4 import BeautifulSoup\n",
    "\n",
    "headers = {\"User-Agent\": \"Mozilla/5.0\"}\n",
    "all_dfs = []\n",
    "\n",
    "for page in range(1, 5):  # loop over pages 1–4\n",
    "    url = f\"https://www.transfermarkt.com/premier-league/transferrekorde/wettbewerb/GB1/plus/1?page={page}&saison_id=2025&zuab=zu\"\n",
    "    r = requests.get(url, headers=headers)\n",
    "    soup = BeautifulSoup(r.text, \"html.parser\")\n",
    "    table = soup.find(\"table\", {\"class\": \"items\"})\n",
    "    df = pd.read_html(str(table))[0]\n",
    "\n",
    "    # Flatten headers\n",
    "    df.columns = [col[1] if isinstance(col, tuple) else col for col in df.columns]\n",
    "\n",
    "    # Extract rows in repeating pattern\n",
    "    df_main          = df.iloc[::7].reset_index(drop=True)   # main row\n",
    "    positions        = df.iloc[2::7].reset_index(drop=True)  # position\n",
    "    left_clubs       = df.iloc[3::7].reset_index(drop=True)  # left club\n",
    "    left_league      = df.iloc[4::7].reset_index(drop=True)  # left league\n",
    "    joined_club      = df.iloc[5::7].reset_index(drop=True)  # joined club\n",
    "    joined_league    = df.iloc[6::7].reset_index(drop=True)  # joined league\n",
    "\n",
    "    # Add them as new columns\n",
    "    df_main[\"Position\"]      = positions[\"Player\"]\n",
    "    df_main[\"Left Club\"]     = left_clubs[\"Player\"]\n",
    "    df_main[\"Left League\"]   = left_league[\"Player\"]\n",
    "    df_main[\"Joined Club\"]   = joined_club[\"Player\"]\n",
    "    df_main[\"Joined League\"] = joined_league[\"Player\"]\n",
    "\n",
    "    df_main[\"Player\"] = df_main.apply(\n",
    "    lambda row: str(row[\"Player\"]).replace(str(row[\"Position\"]), \"\").strip(),\n",
    "    axis=1\n",
    ")\n",
    "\n",
    "    # Drop the combined 'Left' and 'Joined' columns\n",
    "    df_main = df_main.drop(columns=[\"Left\", \"Joined\", \"Nat.\"], errors=\"ignore\")\n",
    "\n",
    "    all_dfs.append(df_main)\n",
    "\n",
    "# Combine all pages\n",
    "df_all = pd.concat(all_dfs, ignore_index=True)\n",
    "\n",
    "print(df_all.head(10))   # first 10 players\n",
    "print(len(df_all))       # should be 100\n"
   ]
  },
  {
   "cell_type": "code",
   "execution_count": null,
   "id": "2aa8959f-632c-4563-bad3-08d14dd33c96",
   "metadata": {},
   "outputs": [],
   "source": []
  }
 ],
 "metadata": {
  "kernelspec": {
   "display_name": "Python 3 (ipykernel)",
   "language": "python",
   "name": "python3"
  },
  "language_info": {
   "codemirror_mode": {
    "name": "ipython",
    "version": 3
   },
   "file_extension": ".py",
   "mimetype": "text/x-python",
   "name": "python",
   "nbconvert_exporter": "python",
   "pygments_lexer": "ipython3",
   "version": "3.13.1"
  }
 },
 "nbformat": 4,
 "nbformat_minor": 5
}
